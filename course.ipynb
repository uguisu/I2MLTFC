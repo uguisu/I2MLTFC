{
 "cells": [
  {
   "cell_type": "markdown",
   "metadata": {},
   "source": [
    "# 面向公司的机器学习入门讲义"
   ]
  },
  {
   "cell_type": "markdown",
   "metadata": {},
   "source": [
    "## [0x01] 环境准备\n",
    "- python 3.6+\n",
    "- jupyterlab 2.1.2\n",
    "- matplotlib 3.2.1\n",
    "- tensorflow 2.2.0\n",
    "- sklearn 0.23.1"
   ]
  },
  {
   "cell_type": "code",
   "execution_count": null,
   "metadata": {},
   "outputs": [],
   "source": [
    "%matplotlib inline"
   ]
  },
  {
   "cell_type": "markdown",
   "metadata": {},
   "source": [
    "## [0x02] 环境启动方法\n",
    "```sh\n",
    "jupyter notebook --no-browser --port=8086 --ip=<YOUR IP>\n",
    "```"
   ]
  },
  {
   "cell_type": "markdown",
   "metadata": {},
   "source": [
    "## [1x01] 当我们说AI时，我们是在谈论什么？\n",
    "\n",
    "一张鸟瞰图，找准我们的位置\n",
    "![00001](asset/00001.png)"
   ]
  },
  {
   "cell_type": "markdown",
   "metadata": {},
   "source": [
    "- <b>人工智能</b>  非常宽泛的领域，通常不能准确的表述所要讨论的问题\n",
    "- <b>机器学习</b>  泛指传统机器学习，特点：\n",
    "    - 不包含神经网络\n",
    "    - 提出时间相对较早\n",
    "    - 代表性算法：支持向量机(SVM) / 决策树等\n",
    "- <b>深度学习</b>  针包含神经网络构成的机器学习算法的总称。特点：\n",
    "    - <span style='color:red;'>由神经网络构成</span>\n",
    "    - 随着算力的不断加强，可训练的层数比较深"
   ]
  },
  {
   "cell_type": "markdown",
   "metadata": {},
   "source": [
    "## [1x02] 什么是机器学习算法"
   ]
  },
  {
   "cell_type": "markdown",
   "metadata": {},
   "source": [
    "### 什么是 ~传统~ 算法?"
   ]
  },
  {
   "cell_type": "markdown",
   "metadata": {},
   "source": [
    "算法是利用计算机解决问题的处理步骤，简而言之，<b>算法就是解决问题的步骤</b>。\n",
    "\n",
    "算法不仅仅用于计算机的数据处理，现实世界中的各种问题也需要结合算法的概念来解决，其中，具有代表性的就是烹饪中用到的食谱，食谱是各种美味料理的制作方法，需要用一定的步骤表示出来。\n",
    "\n",
    "![00003](asset/00003.jpg)"
   ]
  },
  {
   "cell_type": "markdown",
   "metadata": {},
   "source": [
    "多说无益，上干货。\n",
    "\n",
    "想想以下我们要烹饪一道美食：\n",
    "- 材料\n",
    "- 菜谱\n",
    "- 工具\n",
    "\n",
    "已经全部就为\n",
    "\n",
    "![00002](asset/00002.jpg)"
   ]
  },
  {
   "cell_type": "markdown",
   "metadata": {},
   "source": [
    "分析之下，我们会精心设计一个可控的流程，环环相扣，从输入开始一步一步得到结果。\n",
    "\n",
    "![00004](asset/00004.jpg)"
   ]
  },
  {
   "cell_type": "markdown",
   "metadata": {},
   "source": [
    "这是我们正常处理事情的方法，也是学校里老师所教授的。\n",
    "\n",
    "敲黑板复习一下：\n",
    "- 排序算法\n",
    "- 树\n",
    "  - 二叉\n",
    "  - 红黑 ~面试树~\n",
    "  - 深度优先\n",
    "  - 广度优先\n",
    "- 图\n",
    "- 动态规划"
   ]
  },
  {
   "cell_type": "markdown",
   "metadata": {},
   "source": [
    "![00005](asset/00005.jpg)\n",
    "\n",
    "机器学习算法完全不是这个套路。"
   ]
  },
  {
   "cell_type": "markdown",
   "metadata": {},
   "source": [
    "### 机器学习算法"
   ]
  },
  {
   "cell_type": "markdown",
   "metadata": {},
   "source": [
    "机器学习算法与传统算法最大的不同点在于：**机器学习算法是根据数据反推规则**"
   ]
  },
  {
   "cell_type": "markdown",
   "metadata": {},
   "source": [
    "想一想人类是如何学习新事物的？\n",
    "- 读书\n",
    "- 思考\n",
    "- 技能\n",
    "\n",
    "机器学习仿照人的学习方式来工作：\n",
    "- 输入数据\n",
    "- 挖掘关系、总结规律\n",
    "- 输出模型\n",
    "\n",
    "![00006](asset/00006.jpg)\n",
    "\n",
    "装X版\n",
    "![00007](asset/00007.jpg)"
   ]
  },
  {
   "cell_type": "markdown",
   "metadata": {},
   "source": [
    "### 机器学习 VS 深度学习"
   ]
  },
  {
   "cell_type": "markdown",
   "metadata": {},
   "source": [
    "机器学习与深度学习最大的区别在于，深度学习依靠**神经网络**作为模型的载体。"
   ]
  },
  {
   "cell_type": "markdown",
   "metadata": {},
   "source": [
    "神经网络长什么样子？\n",
    "![00009](asset/00009.jpg)\n",
    "\n",
    "![00010](asset/00010.jpg)"
   ]
  },
  {
   "cell_type": "markdown",
   "metadata": {},
   "source": [
    "很酷是吧？\n",
    "\n",
    "下面看一下几个颠覆性的结论：\n",
    "- 无法预判最终会得到什么样的模型\n",
    "- 同样的数据，同样的算法，还是会得到不同的模型\n",
    "  - 这些模型有的可用，有的却完全无效\n",
    "- 超参数都是百万级别起步的，无法手工调整\n",
    "- 现阶段对于模型的整个训练过程，无法解释\n",
    "- 遵循GIGO原则 Garbage In Garbage Out"
   ]
  },
  {
   "cell_type": "markdown",
   "metadata": {},
   "source": [
    "## [1x03] 3W问题 - When?What?Why?"
   ]
  },
  {
   "cell_type": "markdown",
   "metadata": {},
   "source": [
    "听到这里你也许会感觉有些空洞和混乱\n",
    "![00017](asset/00017.jpg)\n",
    "\n",
    "没关系，我这里有一份3W快速指南，“干货”的干活"
   ]
  },
  {
   "cell_type": "markdown",
   "metadata": {},
   "source": [
    "### “传统”机器学习"
   ]
  },
  {
   "cell_type": "markdown",
   "metadata": {},
   "source": [
    "适用于哪些问题：\n",
    "- 线性回归\n",
    "  - 能够抽象成线性函数表征的问题\n",
    "- 决策树\n",
    "- 分类问题\n",
    "  - 垃圾邮件检测。垃圾邮件或广告短信自动屏蔽。\n",
    "- 聚类\n",
    "- 简单推荐算法"
   ]
  },
  {
   "cell_type": "markdown",
   "metadata": {},
   "source": [
    "什么时候考虑使用传统机器学习？\n",
    "- 硬件资源有限，时间有限\n",
    "- 要求精度不高，能用即可\n",
    "- 要求强解释性的场合"
   ]
  },
  {
   "cell_type": "markdown",
   "metadata": {},
   "source": [
    "入门方法 - sklearn"
   ]
  },
  {
   "cell_type": "markdown",
   "metadata": {},
   "source": [
    "### 深度学习"
   ]
  },
  {
   "cell_type": "markdown",
   "metadata": {},
   "source": [
    "适用于哪些问题：\n",
    "- 处理海量高纬度数据\n",
    "  - 天气预报\n",
    "  - 推荐预测\n",
    "  - GAN\n",
    "- 完全无法依靠人工来进行规则制定的任务\n",
    "  - 人脸识别\n",
    "  - 自动翻译\n",
    "  - 语音识别\n",
    "  - 智能驾驶"
   ]
  },
  {
   "cell_type": "markdown",
   "metadata": {},
   "source": [
    "什么时候考虑用深度学习?\n",
    "- 至少拥有一块GPU/TPU/NPU或者类似专用芯片的时候\n",
    "- 对结果精度有较高要求的时候\n",
    "- 拥有海量高质量数据\n",
    "- 不要求解释，只看效果的"
   ]
  },
  {
   "cell_type": "markdown",
   "metadata": {},
   "source": [
    "## [2x01] Demo"
   ]
  },
  {
   "cell_type": "markdown",
   "metadata": {},
   "source": [
    "先来看一个机器学习的典型事例。"
   ]
  },
  {
   "cell_type": "markdown",
   "metadata": {},
   "source": [
    "**鸢尾花的分类**\n",
    "由Fisher在1936年整理，包含4个特征:\n",
    "- Sepal.Length（花萼长度）\n",
    "- Sepal.Width（花萼宽度）\n",
    "- Petal.Length（花瓣长度）\n",
    "- Petal.Width（花瓣宽度）\n",
    "\n",
    "特征值都为正浮点数，单位为厘米。\n",
    "\n",
    "目标值为鸢尾花的分类\n",
    "- Iris Setosa(山鸢尾)\n",
    "- Iris Versicolor(杂色鸢尾)\n",
    "- Iris Virginica(维吉尼亚鸢尾)\n",
    "\n",
    "![00008_1](asset/00008_1.jpg)\n",
    "![00008_2](asset/00008_2.jpg)\n",
    "![00008_3](asset/00008_3.jpg)"
   ]
  },
  {
   "cell_type": "code",
   "execution_count": null,
   "metadata": {},
   "outputs": [],
   "source": [
    "from sklearn import datasets\n",
    "iris = datasets.load_iris()\n",
    "print(\"The iris' target names: \", iris.target_names)\n",
    "\n",
    "X = iris.data[:, :2]  # we only take the first two features.\n",
    "Y = iris.target\n",
    "\n",
    "iris.data.shape"
   ]
  },
  {
   "cell_type": "code",
   "execution_count": null,
   "metadata": {},
   "outputs": [],
   "source": [
    "# 数据长什么样(前10条)\n",
    "iris.data[:10]"
   ]
  },
  {
   "cell_type": "code",
   "execution_count": null,
   "metadata": {},
   "outputs": [],
   "source": [
    "# 完整代码\n",
    "# Code source: Gaël Varoquaux\n",
    "# Modified for documentation by Jaques Grobler\n",
    "# License: BSD 3 clause\n",
    "\n",
    "import numpy as np\n",
    "import matplotlib.pyplot as plt\n",
    "from sklearn.linear_model import LogisticRegression\n",
    "from sklearn import datasets\n",
    "\n",
    "# import some data to play with\n",
    "iris = datasets.load_iris()\n",
    "X = iris.data[:, :2]  # we only take the first two features.\n",
    "Y = iris.target\n",
    "\n",
    "logreg = LogisticRegression(C=1e5)\n",
    "\n",
    "# Create an instance of Logistic Regression Classifier and fit the data.\n",
    "logreg.fit(X, Y)\n",
    "\n",
    "# Plot the decision boundary. For that, we will assign a color to each\n",
    "# point in the mesh [x_min, x_max]x[y_min, y_max].\n",
    "x_min, x_max = X[:, 0].min() - .5, X[:, 0].max() + .5\n",
    "y_min, y_max = X[:, 1].min() - .5, X[:, 1].max() + .5\n",
    "h = .02  # step size in the mesh\n",
    "xx, yy = np.meshgrid(np.arange(x_min, x_max, h), np.arange(y_min, y_max, h))\n",
    "Z = logreg.predict(np.c_[xx.ravel(), yy.ravel()])\n",
    "\n",
    "# Put the result into a color plot\n",
    "Z = Z.reshape(xx.shape)\n",
    "plt.figure(1, figsize=(12, 9))\n",
    "plt.pcolormesh(xx, yy, Z, cmap=plt.cm.Paired)\n",
    "\n",
    "# Plot also the training points\n",
    "plt.scatter(X[:, 0], X[:, 1], c=Y, edgecolors='k', cmap=plt.cm.Paired)\n",
    "plt.xlabel('Sepal length')\n",
    "plt.ylabel('Sepal width')\n",
    "\n",
    "plt.xlim(xx.min(), xx.max())\n",
    "plt.ylim(yy.min(), yy.max())\n",
    "plt.xticks(())\n",
    "plt.yticks(())\n",
    "\n",
    "plt.show()"
   ]
  },
  {
   "cell_type": "markdown",
   "metadata": {},
   "source": [
    "## [2x02] Demo"
   ]
  },
  {
   "cell_type": "markdown",
   "metadata": {},
   "source": [
    "再来看一个使用**神经网络**的例子\n",
    "\n",
    "**线性回归** 用一条线，来描述一种趋势\n",
    "很多时候，如果把业务数据画在一张图标上，我们往往可以看出其发展的规律；\n",
    "\n",
    "如果把这些数据“放到”一个预先定义好结构的神经网络里，那么我们就得到一个包含了这种规律的“模型”"
   ]
  },
  {
   "cell_type": "code",
   "execution_count": null,
   "metadata": {
    "scrolled": true
   },
   "outputs": [],
   "source": [
    "import matplotlib.pyplot as plt\n",
    "import numpy as np\n",
    "import tensorflow as tf\n",
    "from tensorflow import keras\n",
    "from sklearn.preprocessing import PolynomialFeatures\n",
    "\n",
    "# parameter\n",
    "degree_n = 3\n",
    "\n",
    "\n",
    "def dataset(show=True):\n",
    "    X = np.arange(-25, 25, 0.1)\n",
    "    # Try changing y to a different function\n",
    "    y = X**3 + 20 + np.random.randn(500)*1000\n",
    "    if show:\n",
    "        plt.scatter(X, y)\n",
    "        plt.show()\n",
    "    return X, y\n",
    "\n",
    "\n",
    "def create_model():\n",
    "    model = tf.keras.Sequential([keras.layers.Dense(units=1, input_shape=[degree_n+1])])\n",
    "    # you can also define optimizers in this way, so you can change parameters like lr.\n",
    "    optimizer = tf.keras.optimizers.Adam(learning_rate=1e-3)\n",
    "    model.compile(optimizer=optimizer, loss='mean_squared_error')\n",
    "\n",
    "    return model\n",
    "\n",
    "\n",
    "def create_polynomial_features(x, n):\n",
    "    poly = PolynomialFeatures(degree=n)\n",
    "    _x_n = poly.fit_transform(x.reshape(-1, 1))\n",
    "    print(_x_n.shape)\n",
    "    print(_x_n[0])\n",
    "    return _x_n\n",
    "\n",
    "\n",
    "X, y = dataset(show=False)\n",
    "X_scaled = X/max(X)\n",
    "y_scaled = y/max(y)\n",
    "\n",
    "X_2 = create_polynomial_features(X_scaled, degree_n)\n",
    "\n",
    "\n",
    "model = create_model()\n",
    "\n",
    "tf_history = model.fit(X_2, y_scaled, epochs=500, verbose=True)\n",
    "\n",
    "\n",
    "# plt.plot(tf_history.history['loss'])\n",
    "# plt.xlabel('Epochs')\n",
    "# plt.ylabel('MSE Loss')\n",
    "# plt.show()\n",
    "\n",
    "mse = tf_history.history['loss'][-1]\n",
    "y_hat = model.predict(X_2)\n",
    "\n",
    "plt.figure(figsize=(12,7))\n",
    "plt.title('TensorFlow Model')\n",
    "plt.scatter(X_2[:, 1], y_scaled, label='Data $(X, y)$')\n",
    "plt.plot(X_2[:, 1], y_hat, color='red', label='Predicted Line $y = f(X)$',linewidth=4.0)\n",
    "plt.xlabel('$X$', fontsize=20)\n",
    "plt.ylabel('$y$', fontsize=20)\n",
    "plt.text(0,0.70,'MSE = {:.3f}'.format(mse), fontsize=20)\n",
    "plt.grid(True)\n",
    "plt.legend(fontsize=20)\n",
    "plt.show()"
   ]
  },
  {
   "cell_type": "markdown",
   "metadata": {},
   "source": [
    "这一根红色的曲线，就是神经网络，通过输入的数据所“找到”的“规律”。"
   ]
  },
  {
   "cell_type": "markdown",
   "metadata": {},
   "source": [
    "## [2x03] Demo"
   ]
  },
  {
   "cell_type": "markdown",
   "metadata": {},
   "source": [
    "使用神经网络可以解决图像领域的很多问题。下面介绍经典的手写数字识别。"
   ]
  },
  {
   "cell_type": "markdown",
   "metadata": {},
   "source": [
    "手写识别数据库 MNIST\n",
    "\n",
    "TODO: 数据库介绍"
   ]
  },
  {
   "cell_type": "code",
   "execution_count": null,
   "metadata": {
    "scrolled": true
   },
   "outputs": [],
   "source": [
    "from __future__ import print_function\n",
    "\n",
    "import tensorflow.keras\n",
    "from tensorflow.keras.datasets import mnist\n",
    "from tensorflow.keras.models import Sequential\n",
    "from tensorflow.keras.layers import Dense, Dropout\n",
    "from tensorflow.keras.optimizers import RMSprop\n",
    "\n",
    "batch_size = 128\n",
    "num_classes = 10\n",
    "epochs = 20\n",
    "\n",
    "# the data, split between train and test sets\n",
    "(x_train, y_train), (x_test, y_test) = mnist.load_data()\n",
    "\n",
    "print(x_train.shape[0], 'train samples')\n",
    "print(x_test.shape[0], 'test samples')"
   ]
  },
  {
   "cell_type": "markdown",
   "metadata": {},
   "source": [
    "OK，OK，数据长什么样子？"
   ]
  },
  {
   "cell_type": "code",
   "execution_count": null,
   "metadata": {},
   "outputs": [],
   "source": [
    "# The first training data\n",
    "x_train[1:]"
   ]
  },
  {
   "cell_type": "markdown",
   "metadata": {},
   "source": [
    "鹅，好像不太好理解。。。。。\n",
    "\n",
    "![00015](asset/00015.jpg)"
   ]
  },
  {
   "cell_type": "markdown",
   "metadata": {},
   "source": [
    "别急，转换成人类看的懂的形势"
   ]
  },
  {
   "cell_type": "code",
   "execution_count": null,
   "metadata": {},
   "outputs": [],
   "source": [
    "# preview the images first\n",
    "plt.figure(figsize=(12,10))\n",
    "x, y = 10, 4\n",
    "for i in range(40):\n",
    "    plt.subplot(y, x, i+1)\n",
    "    plt.imshow(x_train[i].reshape((28,28)),interpolation='nearest')\n",
    "plt.show()"
   ]
  },
  {
   "cell_type": "markdown",
   "metadata": {},
   "source": [
    "下面来构建网络"
   ]
  },
  {
   "cell_type": "code",
   "execution_count": null,
   "metadata": {},
   "outputs": [],
   "source": [
    "x_train = x_train.reshape(60000, 784)\n",
    "x_test = x_test.reshape(10000, 784)\n",
    "x_train = x_train.astype('float32')\n",
    "x_test = x_test.astype('float32')\n",
    "x_train /= 255\n",
    "x_test /= 255\n",
    "\n",
    "# convert class vectors to binary class matrices\n",
    "y_train = keras.utils.to_categorical(y_train, num_classes)\n",
    "y_test = keras.utils.to_categorical(y_test, num_classes)\n",
    "\n",
    "model = Sequential()\n",
    "model.add(Dense(512, activation='relu', input_shape=(784,)))\n",
    "model.add(Dropout(0.2))\n",
    "model.add(Dense(512, activation='relu'))\n",
    "model.add(Dropout(0.2))\n",
    "model.add(Dense(num_classes, activation='softmax'))\n",
    "\n",
    "model.summary()"
   ]
  },
  {
   "cell_type": "markdown",
   "metadata": {},
   "source": [
    "超参数 大概是 67万个"
   ]
  },
  {
   "cell_type": "code",
   "execution_count": null,
   "metadata": {},
   "outputs": [],
   "source": [
    "model.compile(loss='categorical_crossentropy',\n",
    "              optimizer=RMSprop(),\n",
    "              metrics=['accuracy'])\n",
    "\n",
    "history = model.fit(x_train, y_train,\n",
    "                    batch_size=batch_size,\n",
    "                    epochs=epochs,\n",
    "                    verbose=1,\n",
    "                    validation_data=(x_test, y_test))\n",
    "score = model.evaluate(x_test, y_test, verbose=0)\n",
    "print('Test loss:', score[0])\n",
    "print('Test accuracy:', score[1])"
   ]
  },
  {
   "cell_type": "markdown",
   "metadata": {},
   "source": [
    "正确率大概98%，不够直观？\n",
    "\n",
    "那就来看图说话："
   ]
  },
  {
   "cell_type": "code",
   "execution_count": null,
   "metadata": {},
   "outputs": [],
   "source": [
    "def show_result(in_history):\n",
    "\n",
    "#     print(in_history.history.keys())\n",
    "\n",
    "    loss = in_history.history['loss']\n",
    "    val_loss = in_history.history['val_loss']\n",
    "    acc = in_history.history['accuracy']\n",
    "    val_acc = in_history.history['val_accuracy']\n",
    "    epochs = range(1, len(loss) + 1)\n",
    "\n",
    "    plt.figure(num='Data logistic', figsize=(10, 5))\n",
    "\n",
    "    plt.subplot(1, 2, 1)\n",
    "    plt.plot(epochs, loss, 'bo', label='Training loss')\n",
    "    plt.plot(epochs, val_loss, 'b', label='Validation loss')\n",
    "    plt.xlabel('Epochs')\n",
    "    plt.ylabel('Loss')\n",
    "    plt.title('Loss')\n",
    "    plt.legend()\n",
    "\n",
    "    plt.subplot(1, 2, 2)\n",
    "    plt.plot(epochs, acc, 'bo', label='Training accuracy')\n",
    "    plt.plot(epochs, val_acc, 'b', label='Validation accuracy')\n",
    "    plt.xlabel('Epochs')\n",
    "    plt.ylabel('Accuracy')\n",
    "    plt.title('Accuracy')\n",
    "    plt.legend()\n",
    "\n",
    "    plt.show()\n",
    "\n",
    "show_result(history)"
   ]
  },
  {
   "cell_type": "markdown",
   "metadata": {},
   "source": [
    "## [2x04] Demo"
   ]
  },
  {
   "cell_type": "markdown",
   "metadata": {},
   "source": [
    "来看一个分类的例子。\n",
    "\n",
    "如果我有了模型，那我应该如何使用？"
   ]
  },
  {
   "cell_type": "markdown",
   "metadata": {},
   "source": [
    "**大象的故事**\n",
    "\n",
    "世界上存在着两个最大的种群\n",
    "- 非洲象\n",
    "- 亚洲象\n",
    "\n",
    "[非洲象和亚洲象的区别岂止是耳朵](https://www.sohu.com/a/131947296_121289)"
   ]
  },
  {
   "cell_type": "markdown",
   "metadata": {},
   "source": [
    "现在我们就来利用一个已经训练好的模型来给大想做一个分类"
   ]
  },
  {
   "cell_type": "markdown",
   "metadata": {},
   "source": [
    "先来看一看本次的主角长什么样子？"
   ]
  },
  {
   "cell_type": "code",
   "execution_count": null,
   "metadata": {},
   "outputs": [],
   "source": [
    "import matplotlib.pyplot as plt\n",
    "import matplotlib.image as mpimg\n",
    "\n",
    "plt.figure(figsize=(12,10))\n",
    "img=mpimg.imread('asset/African-savanna-elephant.jpg')\n",
    "imgplot = plt.imshow(img)\n",
    "plt.show()"
   ]
  },
  {
   "cell_type": "markdown",
   "metadata": {},
   "source": [
    "然后，我们进行推断"
   ]
  },
  {
   "cell_type": "code",
   "execution_count": null,
   "metadata": {
    "scrolled": true
   },
   "outputs": [],
   "source": [
    "import numpy as np\n",
    "from tensorflow.keras.applications.vgg16 import (\n",
    "    VGG16, preprocess_input, decode_predictions)\n",
    "from tensorflow.keras.preprocessing import image\n",
    "\n",
    "\n",
    "def load_image(img_path):\n",
    "    # img_path = sys.argv[1]\n",
    "    img = image.load_img(img_path, target_size=(224, 224))\n",
    "    x = image.img_to_array(img)\n",
    "    x = np.expand_dims(x, axis=0)\n",
    "    x = preprocess_input(x)\n",
    "    return x\n",
    "\n",
    "\n",
    "preprocessed_input = load_image('asset/African-savanna-elephant.jpg')\n",
    "\n",
    "model = VGG16(weights='imagenet')\n",
    "\n",
    "predictions = model.predict(preprocessed_input)\n",
    "top_1 = decode_predictions(predictions)[0][0]\n",
    "print('Predicted class:')\n",
    "print('%s (%s) with probability %.2f' % (top_1[1], top_1[0], top_1[2]))"
   ]
  },
  {
   "cell_type": "markdown",
   "metadata": {},
   "source": [
    "从结果上我们可以看到，模型推断说这是一只非洲象，根据我们 **人工的智能** 推断正确。\n",
    "\n",
    "★★★注意★★★ 如果你是第一次运行以上代码，程序会自动到谷歌的网站上下载模型文件，非常耗时。因此，请参考另一份文档，手动将已经下载好的模型Copy到本地，避免漫长的等待。"
   ]
  },
  {
   "cell_type": "markdown",
   "metadata": {},
   "source": [
    "## [2x05] Demo"
   ]
  },
  {
   "cell_type": "markdown",
   "metadata": {},
   "source": [
    "深度学习在落地的时候，不一定要跑在牛X的机器上。相反，如果廉价的硬件和解决方案如果能实现类似的效果，那将必然大大的推动AI落地的速度。\n",
    "业界经常讨论的一个名词叫做“边缘计算”。\n",
    "\n",
    "这里演示一下边缘计算的一个典型场景，人脸识别。"
   ]
  },
  {
   "cell_type": "markdown",
   "metadata": {},
   "source": [
    "Up这里使用一款开源的硬件，烧入人脸识别的网络模型。\n",
    "\n",
    "![00018](asset/00018.jpg)"
   ]
  },
  {
   "cell_type": "markdown",
   "metadata": {},
   "source": [
    "![00020](asset/00020.png)"
   ]
  },
  {
   "cell_type": "markdown",
   "metadata": {},
   "source": [
    "## [2x06] Demo"
   ]
  },
  {
   "cell_type": "markdown",
   "metadata": {},
   "source": [
    "对于生成对抗网络(GAN, Generative Adversarial Networks)相比大家也是有所耳闻的。这里就有一个有趣的网站可以让大家尝试“生成人脸”\n",
    "\n",
    "![00021](asset/00021.png)\n",
    "\n",
    "等不及尝试了？\n",
    "- 点这里 -> https://thispersondoesnotexist.com/\n",
    "- 懒得点？扫一扫 ![00022](asset/00022.png)"
   ]
  },
  {
   "cell_type": "markdown",
   "metadata": {},
   "source": [
    "## [2x07] Demo"
   ]
  },
  {
   "cell_type": "markdown",
   "metadata": {},
   "source": [
    "数字孪生和智慧城市。\n",
    "\n",
    "数字孪生城市已成为各地政府推进智慧城市建设的主流模式选择。\n",
    "\n",
    "产业界也将其视为技术创新的风向标，发展的新机遇，数字孪生应用已在部分领域率先展开。数字孪生城市理念自提出以来，在国内政产学研用各界引起广泛关注，掀起研究和建设热潮。理念引领，各地纷纷提出建设数字孪生城市。\n",
    "\n",
    "引自 《数字孪生城市:智慧城市建设主流模式》 作者：高艳丽，陈才，张育雄  CNKI:SUN:ZGJS.0.2019-21-005"
   ]
  },
  {
   "cell_type": "markdown",
   "metadata": {},
   "source": [
    "这里仅介绍一家国内比较著名的公司: 51WORLD\n",
    "\n",
    "点击[这里](http://www.51hitech.com/technology/smart-park)或者 扫描下面的QR Code看一看他们对于“智慧园区”的定义和产品形态.\n",
    "\n",
    "![00023](asset/00023.png)"
   ]
  },
  {
   "cell_type": "markdown",
   "metadata": {},
   "source": [
    "# [3x01] 法律风险"
   ]
  },
  {
   "cell_type": "markdown",
   "metadata": {},
   "source": [
    "俗话说“任何技术都是一把双刃剑”，在大家看到AI带来的巨大潜力的同时，其建立的基础——“数据”以及应用场景，却存在巨大的法律风险！"
   ]
  },
  {
   "cell_type": "markdown",
   "metadata": {},
   "source": [
    "![0001](asset/0001.gif)\n",
    "![0002](asset/0002.gif)\n",
    "![00024](asset/00024.jpg)\n",
    "![00025](asset/00025.jpg)\n",
    "![00026](asset/00026.jpg)"
   ]
  },
  {
   "cell_type": "markdown",
   "metadata": {},
   "source": [
    "国外:\n",
    "- 美国多个城市立法禁止面部识别软件，警察也不可以\n",
    "- 中新网1月19日电 据欧联社报道，根据欧洲议会的一项立法草案，欧盟正在考虑在未来五年内禁止公共场所使用人脸识别技术。\n",
    "\n",
    "国内：\n",
    "- 10月26日，《杭州市物业管理条例（修订草案）》（以下简称“修订草案”）被提请至杭州市第十三届人大常委会审议。草案拟规定，物业服务人不得强制业主通过指纹、人脸识别等生物信息方式使用共用设施设备。\n",
    "- **如果别人用你的人脸数据，开通相关账户用于违法犯罪，比如洗钱、涉黑、恐怖主义，你可能会因此而卷入刑事诉讼之中。像利用换脸技术，将你的人脸信息用于淫秽色情等视频中，由此造成的恶劣影响，根本不是抓到相关的违法犯罪分子就可以消除的。**\n",
    "- 杭州一动物园因启用人脸识别技术被起诉至法院\n",
    "- 央视再曝AI黑产！2块能买上千人脸照，轻松「换脸」仙人跳"
   ]
  },
  {
   "cell_type": "markdown",
   "metadata": {},
   "source": [
    "![00027](asset/00027.jpg)"
   ]
  },
  {
   "cell_type": "markdown",
   "metadata": {},
   "source": [
    "# 总结"
   ]
  },
  {
   "cell_type": "markdown",
   "metadata": {},
   "source": [
    "**总结**一下，对于一个深度学习问题：\n",
    "- 投喂的是“数据”\n",
    "- 建立的是“网络”\n",
    "- 产出的是“模型”（规律）\n",
    "\n",
    "![00011](asset/00011.jpg)"
   ]
  },
  {
   "cell_type": "markdown",
   "metadata": {},
   "source": [
    "## [Nx01] 如何从入门到放弃"
   ]
  },
  {
   "cell_type": "markdown",
   "metadata": {},
   "source": [
    "最后来看一看如何从入门到 ~专家~ 放弃\n",
    "\n",
    "也许你眼中的机器学习工程师是这样的\n",
    "![00012](asset/00012.jpg)\n",
    "\n",
    "情况大体不差，通过上面的代码来看，使用其实不是太难，概念也可以理解。\n",
    "然鹅，如何选择合适的切入点是个技术活儿。"
   ]
  },
  {
   "cell_type": "markdown",
   "metadata": {},
   "source": [
    "目前市面上有很多关于AI的书籍，内容和质量参差不全。\n",
    "\n",
    "下面两本书虽是经典，但不是切入的好方法"
   ]
  },
  {
   "cell_type": "markdown",
   "metadata": {},
   "source": [
    "![00016](asset/00016.jpg)"
   ]
  },
  {
   "cell_type": "markdown",
   "metadata": {},
   "source": [
    "尽量找一些可视化的教材入手会比较容易理解\n",
    "\n",
    "\n",
    "\n",
    "https://www.bilibili.com/video/BV1F7411D7R7/"
   ]
  },
  {
   "cell_type": "markdown",
   "metadata": {},
   "source": [
    "总结\n",
    "- 入门和应用不可怕\n",
    "- 深度研究要有强悍的数学作为基本功\n",
    "\n",
    "![00014](asset/00014.jpg)"
   ]
  },
  {
   "cell_type": "markdown",
   "metadata": {},
   "source": [
    "最后是广告时间：欢迎大家加入用友AI技术人员的家\n",
    "\n",
    "![00017](asset/00017.png)"
   ]
  }
 ],
 "metadata": {
  "kernelspec": {
   "display_name": "Python 3",
   "language": "python",
   "name": "python3"
  },
  "language_info": {
   "codemirror_mode": {
    "name": "ipython",
    "version": 3
   },
   "file_extension": ".py",
   "mimetype": "text/x-python",
   "name": "python",
   "nbconvert_exporter": "python",
   "pygments_lexer": "ipython3",
   "version": "3.7.4"
  }
 },
 "nbformat": 4,
 "nbformat_minor": 4
}
